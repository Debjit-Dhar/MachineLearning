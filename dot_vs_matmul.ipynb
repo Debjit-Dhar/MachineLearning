{
 "cells": [
  {
   "cell_type": "code",
   "execution_count": 1,
   "id": "7763d505-0e20-4f5a-8d60-739b9bbbced1",
   "metadata": {},
   "outputs": [],
   "source": [
    "import numpy as np"
   ]
  },
  {
   "cell_type": "code",
   "execution_count": 2,
   "id": "371955f6-d11e-4d4c-b3bd-0a54d1cfa762",
   "metadata": {},
   "outputs": [],
   "source": [
    "A = np.array([[[1, 2], [3, 4]], [[5, 6], [7, 8]]])\n",
    "B = np.array([[[1, 2], [3, 4]], [[5, 6], [7, 8]]])"
   ]
  },
  {
   "cell_type": "code",
   "execution_count": 9,
   "id": "e61a0060-ef86-4d9d-ab2a-9848130410fb",
   "metadata": {},
   "outputs": [
    {
     "data": {
      "text/plain": [
       "array([[[[  7,  10],\n",
       "         [ 19,  22]],\n",
       "\n",
       "        [[ 15,  22],\n",
       "         [ 43,  50]]],\n",
       "\n",
       "\n",
       "       [[[ 23,  34],\n",
       "         [ 67,  78]],\n",
       "\n",
       "        [[ 31,  46],\n",
       "         [ 91, 106]]]])"
      ]
     },
     "execution_count": 9,
     "metadata": {},
     "output_type": "execute_result"
    }
   ],
   "source": [
    "x=np.dot(A,B)\n",
    "x"
   ]
  },
  {
   "cell_type": "code",
   "execution_count": 10,
   "id": "056fd785-0208-4840-b817-8786382c8a95",
   "metadata": {},
   "outputs": [
    {
     "data": {
      "text/plain": [
       "array([[[  7,  10],\n",
       "        [ 15,  22]],\n",
       "\n",
       "       [[ 67,  78],\n",
       "        [ 91, 106]]])"
      ]
     },
     "execution_count": 10,
     "metadata": {},
     "output_type": "execute_result"
    }
   ],
   "source": [
    "np.matmul(A,B)"
   ]
  },
  {
   "cell_type": "code",
   "execution_count": 11,
   "id": "ece54981-e876-4a11-b5de-8ec4dc5bab14",
   "metadata": {},
   "outputs": [
    {
     "data": {
      "text/plain": [
       "array([[[  7,  10],\n",
       "        [ 15,  22]],\n",
       "\n",
       "       [[ 67,  78],\n",
       "        [ 91, 106]]])"
      ]
     },
     "execution_count": 11,
     "metadata": {},
     "output_type": "execute_result"
    }
   ],
   "source": [
    "A@B"
   ]
  },
  {
   "cell_type": "code",
   "execution_count": 13,
   "id": "1901d054-76d4-4dd6-b3c1-64825568c00f",
   "metadata": {},
   "outputs": [
    {
     "data": {
      "text/plain": [
       "(2, 2, 2, 2)"
      ]
     },
     "execution_count": 13,
     "metadata": {},
     "output_type": "execute_result"
    }
   ],
   "source": [
    "x.shape"
   ]
  },
  {
   "cell_type": "code",
   "execution_count": null,
   "id": "a33e34eb-6559-46bb-954c-0fa5f3588fb0",
   "metadata": {},
   "outputs": [],
   "source": []
  }
 ],
 "metadata": {
  "kernelspec": {
   "display_name": "Python 3 (ipykernel)",
   "language": "python",
   "name": "python3"
  },
  "language_info": {
   "codemirror_mode": {
    "name": "ipython",
    "version": 3
   },
   "file_extension": ".py",
   "mimetype": "text/x-python",
   "name": "python",
   "nbconvert_exporter": "python",
   "pygments_lexer": "ipython3",
   "version": "3.9.13"
  }
 },
 "nbformat": 4,
 "nbformat_minor": 5
}

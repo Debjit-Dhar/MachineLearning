{
 "cells": [
  {
   "cell_type": "code",
   "execution_count": 1,
   "id": "509c554e-a2bf-4819-8300-2ed0d39fd8b8",
   "metadata": {},
   "outputs": [],
   "source": [
    "import numpy as np"
   ]
  },
  {
   "cell_type": "code",
   "execution_count": 6,
   "id": "445fa2f8-f609-4d47-acdc-9ea493d1197a",
   "metadata": {},
   "outputs": [],
   "source": [
    "class KF:\n",
    "    def __init__(self,initial_x,initial_v):\n",
    "        self.initial_x=np.array([initial_x,initial_v])\n",
    "        self.P=np.eye(2)"
   ]
  },
  {
   "cell_type": "code",
   "execution_count": 7,
   "id": "e3013236-374e-4803-94bb-4a5123306e6c",
   "metadata": {},
   "outputs": [],
   "source": [
    "kf=KF(initial_x=0.2,initial_v=0.5)"
   ]
  },
  {
   "cell_type": "code",
   "execution_count": null,
   "id": "79526083-1d01-4019-b1d2-45dc03f3d5e8",
   "metadata": {},
   "outputs": [],
   "source": []
  }
 ],
 "metadata": {
  "kernelspec": {
   "display_name": "Python 3 (ipykernel)",
   "language": "python",
   "name": "python3"
  },
  "language_info": {
   "codemirror_mode": {
    "name": "ipython",
    "version": 3
   },
   "file_extension": ".py",
   "mimetype": "text/x-python",
   "name": "python",
   "nbconvert_exporter": "python",
   "pygments_lexer": "ipython3",
   "version": "3.9.13"
  }
 },
 "nbformat": 4,
 "nbformat_minor": 5
}

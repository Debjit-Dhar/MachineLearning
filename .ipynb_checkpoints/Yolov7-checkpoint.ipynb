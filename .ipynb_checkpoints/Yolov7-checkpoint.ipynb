{
 "cells": [
  {
   "cell_type": "code",
   "execution_count": 2,
   "id": "d5fbe348-e087-42a8-8ebf-ca11cb2a5bf8",
   "metadata": {},
   "outputs": [],
   "source": [
    "import tensorflow as tf"
   ]
  },
  {
   "cell_type": "code",
   "execution_count": 3,
   "id": "06a84126-202d-496f-b9ab-0a8b746f6063",
   "metadata": {},
   "outputs": [
    {
     "name": "stdout",
     "output_type": "stream",
     "text": [
      "WARNING:tensorflow:From C:\\Users\\sudip\\PycharmProjects\\pythonProject\\venv\\lib\\site-packages\\tf_keras\\src\\losses.py:2976: The name tf.losses.sparse_softmax_cross_entropy is deprecated. Please use tf.compat.v1.losses.sparse_softmax_cross_entropy instead.\n",
      "\n"
     ]
    }
   ],
   "source": [
    "import tensorflow_hub as hub"
   ]
  },
  {
   "cell_type": "code",
   "execution_count": 4,
   "id": "4fa93b4c-cc2b-422e-80d1-c78cbafa942f",
   "metadata": {},
   "outputs": [],
   "source": [
    "import os\n",
    "from PIL import Image\n"
   ]
  },
  {
   "cell_type": "code",
   "execution_count": 5,
   "id": "1747bbd4-8009-4a85-ac81-c98ab6b650aa",
   "metadata": {},
   "outputs": [],
   "source": [
    "# Define the path to the folder containing images\n",
    "folder_path = 'C:/Users/sudip/Downloads/Andaman Dec 2012-001/Andaman Dec 2012'\n",
    "\n",
    "# Define a list of accepted image file extensions\n",
    "image_extensions = ('.jpg', '.jpeg', '.png', '.gif', '.bmp', '.tiff')"
   ]
  },
  {
   "cell_type": "code",
   "execution_count": null,
   "id": "a0ef7ab7-c4f7-410d-8490-3790208be248",
   "metadata": {},
   "outputs": [
    {
     "name": "stdout",
     "output_type": "stream",
     "text": [
      "Fusing layers... \n"
     ]
    },
    {
     "name": "stderr",
     "output_type": "stream",
     "text": [
      "C:\\Users\\sudip\\PycharmProjects\\pythonProject\\venv\\lib\\site-packages\\torch\\functional.py:504: UserWarning: torch.meshgrid: in an upcoming release, it will be required to pass the indexing argument. (Triggered internally at C:\\actions-runner\\_work\\pytorch\\pytorch\\builder\\windows\\pytorch\\aten\\src\\ATen\\native\\TensorShape.cpp:3527.)\n",
      "  return _VF.meshgrid(tensors, **kwargs)  # type: ignore[attr-defined]\n"
     ]
    },
    {
     "name": "stdout",
     "output_type": "stream",
     "text": [
      "Fusing layers... \n",
      "Fusing layers... \n",
      "Fusing layers... \n",
      "Fusing layers... \n",
      "Fusing layers... \n",
      "Fusing layers... \n",
      "Fusing layers... \n",
      "Fusing layers... \n",
      "Fusing layers... \n",
      "Fusing layers... \n",
      "Fusing layers... \n",
      "Fusing layers... \n",
      "Fusing layers... \n",
      "Fusing layers... \n",
      "Fusing layers... \n"
     ]
    }
   ],
   "source": [
    "from yolov7_package import Yolov7Detector\n",
    "import cv2\n",
    "\n",
    "if __name__ == '__main__':\n",
    "    # Iterate through all files in the folder\n",
    "    for filename in os.listdir(folder_path):\n",
    "    # Check if the file is an image based on its extension\n",
    "        if filename.lower().endswith(image_extensions):\n",
    "        \n",
    "            image_path = os.path.join(folder_path, filename)\n",
    "            try:            \n",
    "                # Open the image\n",
    "                img = cv2.imread(image_path)\n",
    "                #resize=tf.keras.layers.Resizing(height=640,width=640,crop_to_aspect_ratio=True)\n",
    "                #img=resize(img)\n",
    "                img=cv2.resize(img,(1500,700))\n",
    "                det = Yolov7Detector(traced=False)\n",
    "                classes, boxes, scores = det.detect(img)\n",
    "                img = det.draw_on_image(img, boxes[0], scores[0], classes[0])\n",
    "\n",
    "                cv2.imshow(\"image\", img)\n",
    "                cv2.waitKey()\n",
    "            except Exception as e:\n",
    "                print(f\"Error opening image {filename}: {e}\")"
   ]
  },
  {
   "cell_type": "code",
   "execution_count": null,
   "id": "a9702675-17bd-4bfb-8eed-7886e2467ff9",
   "metadata": {},
   "outputs": [],
   "source": []
  }
 ],
 "metadata": {
  "kernelspec": {
   "display_name": "Python 3 (ipykernel)",
   "language": "python",
   "name": "python3"
  },
  "language_info": {
   "codemirror_mode": {
    "name": "ipython",
    "version": 3
   },
   "file_extension": ".py",
   "mimetype": "text/x-python",
   "name": "python",
   "nbconvert_exporter": "python",
   "pygments_lexer": "ipython3",
   "version": "3.9.13"
  }
 },
 "nbformat": 4,
 "nbformat_minor": 5
}

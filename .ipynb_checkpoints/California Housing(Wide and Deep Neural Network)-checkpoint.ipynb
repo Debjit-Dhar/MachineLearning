{
 "cells": [
  {
   "cell_type": "code",
   "execution_count": 3,
   "id": "9b729432-6f97-49c3-bec2-33d132a2d866",
   "metadata": {},
   "outputs": [],
   "source": [
    "from sklearn.datasets import fetch_california_housing\n",
    "from sklearn.model_selection import train_test_split"
   ]
  },
  {
   "cell_type": "code",
   "execution_count": 4,
   "id": "fd897211-8344-46c4-8040-d3e6fd6ddf12",
   "metadata": {},
   "outputs": [],
   "source": [
    "housing = fetch_california_housing()\n",
    "X_train_full, X_test, y_train_full, y_test = train_test_split(\n",
    "    housing.data, housing.target, random_state=42)\n",
    "X_train, X_valid, y_train, y_valid = train_test_split(\n",
    "    X_train_full, y_train_full, random_state=42)"
   ]
  },
  {
   "cell_type": "code",
   "execution_count": 5,
   "id": "c1e51a67-32cc-4033-bd6b-6b9cd3fc3bff",
   "metadata": {},
   "outputs": [
    {
     "name": "stdout",
     "output_type": "stream",
     "text": [
      "WARNING:tensorflow:From C:\\Users\\sudip\\PycharmProjects\\pythonProject\\venv\\lib\\site-packages\\keras\\src\\losses.py:2976: The name tf.losses.sparse_softmax_cross_entropy is deprecated. Please use tf.compat.v1.losses.sparse_softmax_cross_entropy instead.\n",
      "\n"
     ]
    }
   ],
   "source": [
    "import tensorflow as tf"
   ]
  },
  {
   "cell_type": "code",
   "execution_count": 17,
   "id": "a3562802-3278-4e85-b4d8-3681ecb59bb2",
   "metadata": {},
   "outputs": [],
   "source": [
    "tf.keras.backend.clear_session()\n",
    "tf.random.set_seed(42)\n",
    "ip=tf.keras.layers.Input(shape=X_train.shape[1:])\n",
    "norm=tf.keras.layers.Normalization()\n",
    "nlayer=norm(ip)\n",
    "L=3\n",
    "hlayers=[]\n",
    "prev=nlayer\n",
    "for i in range(L-1):\n",
    "    hlayers.append(tf.keras.layers.Dense(30,activation='relu')(prev))\n",
    "    prev=hlayers[i]\n",
    "clayer=tf.keras.layers.Concatenate()([nlayer,prev])\n",
    "olayer=tf.keras.layers.Dense(1)(clayer)\n",
    "model=tf.keras.Model(inputs=[ip],outputs=[olayer])"
   ]
  },
  {
   "cell_type": "code",
   "execution_count": 18,
   "id": "f66c79ce-1498-4c01-bbaa-157355359fd1",
   "metadata": {},
   "outputs": [
    {
     "name": "stdout",
     "output_type": "stream",
     "text": [
      "Model: \"model\"\n",
      "__________________________________________________________________________________________________\n",
      " Layer (type)                Output Shape                 Param #   Connected to                  \n",
      "==================================================================================================\n",
      " input_1 (InputLayer)        [(None, 8)]                  0         []                            \n",
      "                                                                                                  \n",
      " normalization (Normalizati  (None, 8)                    17        ['input_1[0][0]']             \n",
      " on)                                                                                              \n",
      "                                                                                                  \n",
      " dense (Dense)               (None, 30)                   270       ['normalization[0][0]']       \n",
      "                                                                                                  \n",
      " dense_1 (Dense)             (None, 30)                   930       ['dense[0][0]']               \n",
      "                                                                                                  \n",
      " concatenate (Concatenate)   (None, 38)                   0         ['normalization[0][0]',       \n",
      "                                                                     'dense_1[0][0]']             \n",
      "                                                                                                  \n",
      " dense_2 (Dense)             (None, 1)                    39        ['concatenate[0][0]']         \n",
      "                                                                                                  \n",
      "==================================================================================================\n",
      "Total params: 1256 (4.91 KB)\n",
      "Trainable params: 1239 (4.84 KB)\n",
      "Non-trainable params: 17 (72.00 Byte)\n",
      "__________________________________________________________________________________________________\n"
     ]
    }
   ],
   "source": [
    "model.summary()"
   ]
  },
  {
   "cell_type": "code",
   "execution_count": 19,
   "id": "5c1a54bf-fc3a-4378-a784-9cfeec8a5164",
   "metadata": {},
   "outputs": [],
   "source": [
    "optimizer=tf.keras.optimizers.Adam(learning_rate=1e-2)\n",
    "model.compile(loss='mse',optimizer=optimizer,metrics=['RootMeanSquaredError'])"
   ]
  },
  {
   "cell_type": "code",
   "execution_count": 20,
   "id": "03642cce-15c6-4ecc-8895-64f283dc7a7b",
   "metadata": {},
   "outputs": [
    {
     "name": "stdout",
     "output_type": "stream",
     "text": [
      "Epoch 1/20\n",
      "WARNING:tensorflow:From C:\\Users\\sudip\\PycharmProjects\\pythonProject\\venv\\lib\\site-packages\\keras\\src\\utils\\tf_utils.py:492: The name tf.ragged.RaggedTensorValue is deprecated. Please use tf.compat.v1.ragged.RaggedTensorValue instead.\n",
      "\n",
      "WARNING:tensorflow:From C:\\Users\\sudip\\PycharmProjects\\pythonProject\\venv\\lib\\site-packages\\keras\\src\\engine\\base_layer_utils.py:384: The name tf.executing_eagerly_outside_functions is deprecated. Please use tf.compat.v1.executing_eagerly_outside_functions instead.\n",
      "\n",
      "363/363 [==============================] - 3s 4ms/step - loss: 0.6118 - root_mean_squared_error: 0.7822 - val_loss: 0.8643 - val_root_mean_squared_error: 0.9297\n",
      "Epoch 2/20\n",
      "363/363 [==============================] - 1s 2ms/step - loss: 0.4149 - root_mean_squared_error: 0.6441 - val_loss: 0.6563 - val_root_mean_squared_error: 0.8101\n",
      "Epoch 3/20\n",
      "363/363 [==============================] - 1s 3ms/step - loss: 0.3650 - root_mean_squared_error: 0.6042 - val_loss: 0.4177 - val_root_mean_squared_error: 0.6463\n",
      "Epoch 4/20\n",
      "363/363 [==============================] - 1s 2ms/step - loss: 0.3866 - root_mean_squared_error: 0.6218 - val_loss: 1.0661 - val_root_mean_squared_error: 1.0325\n",
      "Epoch 5/20\n",
      "363/363 [==============================] - 1s 3ms/step - loss: 0.4400 - root_mean_squared_error: 0.6633 - val_loss: 33.4189 - val_root_mean_squared_error: 5.7809\n",
      "Epoch 6/20\n",
      "363/363 [==============================] - 1s 2ms/step - loss: 0.6402 - root_mean_squared_error: 0.8001 - val_loss: 55.4186 - val_root_mean_squared_error: 7.4444\n",
      "Epoch 7/20\n",
      "363/363 [==============================] - 1s 2ms/step - loss: 0.4105 - root_mean_squared_error: 0.6407 - val_loss: 0.4106 - val_root_mean_squared_error: 0.6408\n",
      "Epoch 8/20\n",
      "363/363 [==============================] - 1s 2ms/step - loss: 0.3428 - root_mean_squared_error: 0.5855 - val_loss: 3.6518 - val_root_mean_squared_error: 1.9110\n",
      "Epoch 9/20\n",
      "363/363 [==============================] - 1s 3ms/step - loss: 0.3827 - root_mean_squared_error: 0.6187 - val_loss: 16.4623 - val_root_mean_squared_error: 4.0574\n",
      "Epoch 10/20\n",
      "363/363 [==============================] - 1s 2ms/step - loss: 0.4751 - root_mean_squared_error: 0.6892 - val_loss: 0.5450 - val_root_mean_squared_error: 0.7383\n",
      "Epoch 11/20\n",
      "363/363 [==============================] - 1s 3ms/step - loss: 0.3364 - root_mean_squared_error: 0.5800 - val_loss: 0.9950 - val_root_mean_squared_error: 0.9975\n",
      "Epoch 12/20\n",
      "363/363 [==============================] - 1s 3ms/step - loss: 0.3456 - root_mean_squared_error: 0.5879 - val_loss: 3.0959 - val_root_mean_squared_error: 1.7595\n",
      "Epoch 13/20\n",
      "363/363 [==============================] - 1s 3ms/step - loss: 0.3421 - root_mean_squared_error: 0.5849 - val_loss: 3.6383 - val_root_mean_squared_error: 1.9074\n",
      "Epoch 14/20\n",
      "363/363 [==============================] - 1s 3ms/step - loss: 0.3380 - root_mean_squared_error: 0.5813 - val_loss: 0.3753 - val_root_mean_squared_error: 0.6126\n",
      "Epoch 15/20\n",
      "363/363 [==============================] - 1s 3ms/step - loss: 0.3099 - root_mean_squared_error: 0.5567 - val_loss: 0.3060 - val_root_mean_squared_error: 0.5532\n",
      "Epoch 16/20\n",
      "363/363 [==============================] - 1s 3ms/step - loss: 0.3095 - root_mean_squared_error: 0.5563 - val_loss: 0.2862 - val_root_mean_squared_error: 0.5350\n",
      "Epoch 17/20\n",
      "363/363 [==============================] - 1s 3ms/step - loss: 0.3107 - root_mean_squared_error: 0.5574 - val_loss: 0.3656 - val_root_mean_squared_error: 0.6046\n",
      "Epoch 18/20\n",
      "363/363 [==============================] - 1s 3ms/step - loss: 0.3048 - root_mean_squared_error: 0.5521 - val_loss: 0.4902 - val_root_mean_squared_error: 0.7002\n",
      "Epoch 19/20\n",
      "363/363 [==============================] - 1s 3ms/step - loss: 0.3019 - root_mean_squared_error: 0.5494 - val_loss: 0.3895 - val_root_mean_squared_error: 0.6241\n",
      "Epoch 20/20\n",
      "363/363 [==============================] - 1s 3ms/step - loss: 0.3051 - root_mean_squared_error: 0.5524 - val_loss: 0.5654 - val_root_mean_squared_error: 0.7519\n"
     ]
    }
   ],
   "source": [
    "norm.adapt(X_train)\n",
    "history=model.fit(X_train,y_train,epochs=20,validation_data=(X_valid,y_valid))"
   ]
  },
  {
   "cell_type": "code",
   "execution_count": 21,
   "id": "4b382b2d-c726-4102-8ad6-95d78438c59f",
   "metadata": {},
   "outputs": [
    {
     "name": "stdout",
     "output_type": "stream",
     "text": [
      "162/162 [==============================] - 0s 2ms/step - loss: 0.3040 - root_mean_squared_error: 0.5514\n"
     ]
    }
   ],
   "source": [
    "mse_test=model.evaluate(X_test,y_test)"
   ]
  },
  {
   "cell_type": "code",
   "execution_count": null,
   "id": "bf414c31-7616-490a-8efa-9ff04a3646ae",
   "metadata": {},
   "outputs": [],
   "source": []
  }
 ],
 "metadata": {
  "kernelspec": {
   "display_name": "Python 3 (ipykernel)",
   "language": "python",
   "name": "python3"
  },
  "language_info": {
   "codemirror_mode": {
    "name": "ipython",
    "version": 3
   },
   "file_extension": ".py",
   "mimetype": "text/x-python",
   "name": "python",
   "nbconvert_exporter": "python",
   "pygments_lexer": "ipython3",
   "version": "3.9.13"
  }
 },
 "nbformat": 4,
 "nbformat_minor": 5
}

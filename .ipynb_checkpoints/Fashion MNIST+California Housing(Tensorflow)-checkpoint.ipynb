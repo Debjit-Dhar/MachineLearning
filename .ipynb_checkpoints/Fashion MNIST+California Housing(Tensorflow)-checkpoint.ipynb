{
 "cells": [
  {
   "cell_type": "code",
   "execution_count": 1,
   "id": "658d8bc4-0a4c-4205-a5fe-68b77bad757e",
   "metadata": {},
   "outputs": [
    {
     "name": "stdout",
     "output_type": "stream",
     "text": [
      "WARNING:tensorflow:From C:\\Users\\sudip\\PycharmProjects\\pythonProject\\venv\\lib\\site-packages\\keras\\src\\losses.py:2976: The name tf.losses.sparse_softmax_cross_entropy is deprecated. Please use tf.compat.v1.losses.sparse_softmax_cross_entropy instead.\n",
      "\n"
     ]
    }
   ],
   "source": [
    "import tensorflow as tf\n",
    "from sklearn.model_selection import train_test_split"
   ]
  },
  {
   "cell_type": "code",
   "execution_count": 2,
   "id": "33e88400-8d96-47c1-bf4b-40aeff4ab333",
   "metadata": {},
   "outputs": [],
   "source": [
    "fm=tf.keras.datasets.fashion_mnist.load_data()\n",
    "(x_train,y_train),(x_test,y_test)=fm\n",
    "x_train,x_val,y_train,y_val=train_test_split(x_train,y_train,test_size=0.1,stratify=y_train,random_state=42)"
   ]
  },
  {
   "cell_type": "code",
   "execution_count": 3,
   "id": "0bf1cf40-57b2-47e0-84bb-22f3abfbf63d",
   "metadata": {},
   "outputs": [],
   "source": [
    "x_train=x_train/255.0\n",
    "x_val=x_val/255.0\n",
    "x_test=x_test/255.0"
   ]
  },
  {
   "cell_type": "code",
   "execution_count": 4,
   "id": "36e16aed-86b1-45ce-8d68-91b6b6946ecf",
   "metadata": {},
   "outputs": [
    {
     "data": {
      "image/png": "[encoded data removed]",
      "text/plain": [
       "<Figure size 640x480 with 1 Axes>"
      ]
     },
     "metadata": {},
     "output_type": "display_data"
    }
   ],
   "source": [
    "import matplotlib.pyplot as pl\n",
    "pl.imshow(x_train[200],cmap='binary')\n",
    "pl.show()"
   ]
  },
  {
   "cell_type": "code",
   "execution_count": 5,
   "id": "4d7ad8de-8135-464a-8c5c-a20a387e23b9",
   "metadata": {},
   "outputs": [
    {
     "data": {
      "text/plain": [
       "array([0, 1, 2, 3, 4, 5, 6, 7, 8, 9], dtype=uint8)"
      ]
     },
     "execution_count": 5,
     "metadata": {},
     "output_type": "execute_result"
    }
   ],
   "source": [
    "import numpy as np\n",
    "np.unique(y_train)"
   ]
  },
  {
   "cell_type": "code",
   "execution_count": 6,
   "id": "fa35ccbf-eac7-48f2-b847-be11816aa947",
   "metadata": {},
   "outputs": [
    {
     "data": {
      "text/plain": [
       "(54000, 28, 28)"
      ]
     },
     "execution_count": 6,
     "metadata": {},
     "output_type": "execute_result"
    }
   ],
   "source": [
    "x_train.shape"
   ]
  },
  {
   "cell_type": "code",
   "execution_count": 7,
   "id": "b9287ed9-22e6-47d8-ae3d-88955c80279f",
   "metadata": {},
   "outputs": [
    {
     "name": "stdout",
     "output_type": "stream",
     "text": [
      "WARNING:tensorflow:From C:\\Users\\sudip\\PycharmProjects\\pythonProject\\venv\\lib\\site-packages\\keras\\src\\backend.py:873: The name tf.get_default_graph is deprecated. Please use tf.compat.v1.get_default_graph instead.\n",
      "\n"
     ]
    }
   ],
   "source": [
    "tf.random.set_seed(42)\n",
    "model=tf.keras.Sequential()\n",
    "#Input Layer\n",
    "model.add(tf.keras.layers.Flatten(input_shape=[x_train.shape[1],x_train.shape[2]]))\n",
    "#Hidden Layers\n",
    "units=[300,100]\n",
    "for i in range(2):\n",
    "    model.add(tf.keras.layers.Dense(units[i],activation='relu'))\n",
    "model.add(tf.keras.layers.Dense(10,activation='softmax'))"
   ]
  },
  {
   "cell_type": "code",
   "execution_count": 8,
   "id": "5ca285eb-d52b-4191-bb45-383bc17dface",
   "metadata": {},
   "outputs": [
    {
     "name": "stdout",
     "output_type": "stream",
     "text": [
      "Model: \"sequential\"\n",
      "_________________________________________________________________\n",
      " Layer (type)                Output Shape              Param #   \n",
      "=================================================================\n",
      " flatten (Flatten)           (None, 784)               0         \n",
      "                                                                 \n",
      " dense (Dense)               (None, 300)               235500    \n",
      "                                                                 \n",
      " dense_1 (Dense)             (None, 100)               30100     \n",
      "                                                                 \n",
      " dense_2 (Dense)             (None, 10)                1010      \n",
      "                                                                 \n",
      "=================================================================\n",
      "Total params: 266610 (1.02 MB)\n",
      "Trainable params: 266610 (1.02 MB)\n",
      "Non-trainable params: 0 (0.00 Byte)\n",
      "_________________________________________________________________\n"
     ]
    }
   ],
   "source": [
    "model.summary()"
   ]
  },
  {
   "cell_type": "code",
   "execution_count": 9,
   "id": "ce32e2c2-505b-4dab-98f5-94bf6bdbec40",
   "metadata": {},
   "outputs": [
    {
     "name": "stdout",
     "output_type": "stream",
     "text": [
      "[array([[-0.05317174, -0.03745428, -0.01157012, ..., -0.06141828,\n",
      "        -0.02531181, -0.03243338],\n",
      "       [ 0.06458852,  0.01679051, -0.02599713, ..., -0.02627482,\n",
      "         0.03377175, -0.06906737],\n",
      "       [-0.00105079,  0.01325087,  0.00747168, ..., -0.06483494,\n",
      "        -0.06769201, -0.0086151 ],\n",
      "       ...,\n",
      "       [ 0.06313488,  0.06328835,  0.01007342, ...,  0.03874013,\n",
      "        -0.01002258,  0.03496584],\n",
      "       [-0.06641585,  0.00342793,  0.02585281, ..., -0.01214864,\n",
      "        -0.06939752, -0.04661802],\n",
      "       [-0.07407963, -0.00303369, -0.05238304, ..., -0.03852614,\n",
      "         0.04332448, -0.07149929]], dtype=float32), array([0., 0., 0., 0., 0., 0., 0., 0., 0., 0., 0., 0., 0., 0., 0., 0., 0.,\n",
      "       0., 0., 0., 0., 0., 0., 0., 0., 0., 0., 0., 0., 0., 0., 0., 0., 0.,\n",
      "       0., 0., 0., 0., 0., 0., 0., 0., 0., 0., 0., 0., 0., 0., 0., 0., 0.,\n",
      "       0., 0., 0., 0., 0., 0., 0., 0., 0., 0., 0., 0., 0., 0., 0., 0., 0.,\n",
      "       0., 0., 0., 0., 0., 0., 0., 0., 0., 0., 0., 0., 0., 0., 0., 0., 0.,\n",
      "       0., 0., 0., 0., 0., 0., 0., 0., 0., 0., 0., 0., 0., 0., 0., 0., 0.,\n",
      "       0., 0., 0., 0., 0., 0., 0., 0., 0., 0., 0., 0., 0., 0., 0., 0., 0.,\n",
      "       0., 0., 0., 0., 0., 0., 0., 0., 0., 0., 0., 0., 0., 0., 0., 0., 0.,\n",
      "       0., 0., 0., 0., 0., 0., 0., 0., 0., 0., 0., 0., 0., 0., 0., 0., 0.,\n",
      "       0., 0., 0., 0., 0., 0., 0., 0., 0., 0., 0., 0., 0., 0., 0., 0., 0.,\n",
      "       0., 0., 0., 0., 0., 0., 0., 0., 0., 0., 0., 0., 0., 0., 0., 0., 0.,\n",
      "       0., 0., 0., 0., 0., 0., 0., 0., 0., 0., 0., 0., 0., 0., 0., 0., 0.,\n",
      "       0., 0., 0., 0., 0., 0., 0., 0., 0., 0., 0., 0., 0., 0., 0., 0., 0.,\n",
      "       0., 0., 0., 0., 0., 0., 0., 0., 0., 0., 0., 0., 0., 0., 0., 0., 0.,\n",
      "       0., 0., 0., 0., 0., 0., 0., 0., 0., 0., 0., 0., 0., 0., 0., 0., 0.,\n",
      "       0., 0., 0., 0., 0., 0., 0., 0., 0., 0., 0., 0., 0., 0., 0., 0., 0.,\n",
      "       0., 0., 0., 0., 0., 0., 0., 0., 0., 0., 0., 0., 0., 0., 0., 0., 0.,\n",
      "       0., 0., 0., 0., 0., 0., 0., 0., 0., 0., 0.], dtype=float32)]\n"
     ]
    }
   ],
   "source": [
    "print(model.layers[1].get_weights())"
   ]
  },
  {
   "cell_type": "code",
   "execution_count": 10,
   "id": "d7f3de7e-0f10-42fe-b493-5870f215ef00",
   "metadata": {},
   "outputs": [],
   "source": [
    "optimizer=tf.keras.optimizers.SGD(learning_rate=0.01)\n",
    "model.compile(loss='sparse_categorical_crossentropy',optimizer=optimizer,metrics=[tf.keras.metrics.sparse_categorical_accuracy])"
   ]
  },
  {
   "cell_type": "code",
   "execution_count": 11,
   "id": "16b85b09-8905-42d5-bca9-c6b4cadb725e",
   "metadata": {},
   "outputs": [
    {
     "name": "stdout",
     "output_type": "stream",
     "text": [
      "Epoch 1/30\n",
      "WARNING:tensorflow:From C:\\Users\\sudip\\PycharmProjects\\pythonProject\\venv\\lib\\site-packages\\keras\\src\\utils\\tf_utils.py:492: The name tf.ragged.RaggedTensorValue is deprecated. Please use tf.compat.v1.ragged.RaggedTensorValue instead.\n",
      "\n",
      "WARNING:tensorflow:From C:\\Users\\sudip\\PycharmProjects\\pythonProject\\venv\\lib\\site-packages\\keras\\src\\engine\\base_layer_utils.py:384: The name tf.executing_eagerly_outside_functions is deprecated. Please use tf.compat.v1.executing_eagerly_outside_functions instead.\n",
      "\n",
      "1688/1688 [==============================] - 9s 3ms/step - loss: 0.7231 - sparse_categorical_accuracy: 0.7640 - val_loss: 0.5245 - val_sparse_categorical_accuracy: 0.8175\n",
      "Epoch 2/30\n",
      "1688/1688 [==============================] - 5s 3ms/step - loss: 0.4921 - sparse_categorical_accuracy: 0.8301 - val_loss: 0.4550 - val_sparse_categorical_accuracy: 0.8407\n",
      "Epoch 3/30\n",
      "1688/1688 [==============================] - 5s 3ms/step - loss: 0.4451 - sparse_categorical_accuracy: 0.8442 - val_loss: 0.4533 - val_sparse_categorical_accuracy: 0.8367\n",
      "Epoch 4/30\n",
      "1688/1688 [==============================] - 5s 3ms/step - loss: 0.4171 - sparse_categorical_accuracy: 0.8533 - val_loss: 0.4079 - val_sparse_categorical_accuracy: 0.8562\n",
      "Epoch 5/30\n",
      "1688/1688 [==============================] - 5s 3ms/step - loss: 0.3960 - sparse_categorical_accuracy: 0.8617 - val_loss: 0.4028 - val_sparse_categorical_accuracy: 0.8555\n",
      "Epoch 6/30\n",
      "1688/1688 [==============================] - 5s 3ms/step - loss: 0.3809 - sparse_categorical_accuracy: 0.8662 - val_loss: 0.3653 - val_sparse_categorical_accuracy: 0.8730\n",
      "Epoch 7/30\n",
      "1688/1688 [==============================] - 5s 3ms/step - loss: 0.3669 - sparse_categorical_accuracy: 0.8698 - val_loss: 0.3713 - val_sparse_categorical_accuracy: 0.8700\n",
      "Epoch 8/30\n",
      "1688/1688 [==============================] - 5s 3ms/step - loss: 0.3565 - sparse_categorical_accuracy: 0.8722 - val_loss: 0.3599 - val_sparse_categorical_accuracy: 0.8768\n",
      "Epoch 9/30\n",
      "1688/1688 [==============================] - 5s 3ms/step - loss: 0.3454 - sparse_categorical_accuracy: 0.8771 - val_loss: 0.3699 - val_sparse_categorical_accuracy: 0.8667\n",
      "Epoch 10/30\n",
      "1688/1688 [==============================] - 5s 3ms/step - loss: 0.3367 - sparse_categorical_accuracy: 0.8786 - val_loss: 0.3435 - val_sparse_categorical_accuracy: 0.8802\n",
      "Epoch 11/30\n",
      "1688/1688 [==============================] - 5s 3ms/step - loss: 0.3277 - sparse_categorical_accuracy: 0.8832 - val_loss: 0.3322 - val_sparse_categorical_accuracy: 0.8822\n",
      "Epoch 12/30\n",
      "1688/1688 [==============================] - 5s 3ms/step - loss: 0.3197 - sparse_categorical_accuracy: 0.8857 - val_loss: 0.3215 - val_sparse_categorical_accuracy: 0.8845\n",
      "Epoch 13/30\n",
      "1688/1688 [==============================] - 5s 3ms/step - loss: 0.3128 - sparse_categorical_accuracy: 0.8874 - val_loss: 0.3321 - val_sparse_categorical_accuracy: 0.8848\n",
      "Epoch 14/30\n",
      "1688/1688 [==============================] - 5s 3ms/step - loss: 0.3060 - sparse_categorical_accuracy: 0.8899 - val_loss: 0.3147 - val_sparse_categorical_accuracy: 0.8887\n",
      "Epoch 15/30\n",
      "1688/1688 [==============================] - 6s 4ms/step - loss: 0.2987 - sparse_categorical_accuracy: 0.8917 - val_loss: 0.3099 - val_sparse_categorical_accuracy: 0.8878\n",
      "Epoch 16/30\n",
      "1688/1688 [==============================] - 8s 5ms/step - loss: 0.2926 - sparse_categorical_accuracy: 0.8945 - val_loss: 0.3584 - val_sparse_categorical_accuracy: 0.8730\n",
      "Epoch 17/30\n",
      "1688/1688 [==============================] - 5s 3ms/step - loss: 0.2874 - sparse_categorical_accuracy: 0.8957 - val_loss: 0.3129 - val_sparse_categorical_accuracy: 0.8885\n",
      "Epoch 18/30\n",
      "1688/1688 [==============================] - 5s 3ms/step - loss: 0.2809 - sparse_categorical_accuracy: 0.8990 - val_loss: 0.3616 - val_sparse_categorical_accuracy: 0.8667\n",
      "Epoch 19/30\n",
      "1688/1688 [==============================] - 5s 3ms/step - loss: 0.2763 - sparse_categorical_accuracy: 0.9008 - val_loss: 0.2991 - val_sparse_categorical_accuracy: 0.8922\n",
      "Epoch 20/30\n",
      "1688/1688 [==============================] - 5s 3ms/step - loss: 0.2718 - sparse_categorical_accuracy: 0.9014 - val_loss: 0.3060 - val_sparse_categorical_accuracy: 0.8885\n",
      "Epoch 21/30\n",
      "1688/1688 [==============================] - 5s 3ms/step - loss: 0.2658 - sparse_categorical_accuracy: 0.9040 - val_loss: 0.3006 - val_sparse_categorical_accuracy: 0.8888\n",
      "Epoch 22/30\n",
      "1688/1688 [==============================] - 6s 3ms/step - loss: 0.2620 - sparse_categorical_accuracy: 0.9048 - val_loss: 0.3267 - val_sparse_categorical_accuracy: 0.8832\n",
      "Epoch 23/30\n",
      "1688/1688 [==============================] - 6s 3ms/step - loss: 0.2578 - sparse_categorical_accuracy: 0.9058 - val_loss: 0.3074 - val_sparse_categorical_accuracy: 0.8888\n",
      "Epoch 24/30\n",
      "1688/1688 [==============================] - 5s 3ms/step - loss: 0.2532 - sparse_categorical_accuracy: 0.9086 - val_loss: 0.2995 - val_sparse_categorical_accuracy: 0.8923\n",
      "Epoch 25/30\n",
      "1688/1688 [==============================] - 6s 3ms/step - loss: 0.2484 - sparse_categorical_accuracy: 0.9102 - val_loss: 0.3004 - val_sparse_categorical_accuracy: 0.8922\n",
      "Epoch 26/30\n",
      "1688/1688 [==============================] - 6s 4ms/step - loss: 0.2444 - sparse_categorical_accuracy: 0.9114 - val_loss: 0.3286 - val_sparse_categorical_accuracy: 0.8832\n",
      "Epoch 27/30\n",
      "1688/1688 [==============================] - 6s 4ms/step - loss: 0.2403 - sparse_categorical_accuracy: 0.9131 - val_loss: 0.3021 - val_sparse_categorical_accuracy: 0.8920\n",
      "Epoch 28/30\n",
      "1688/1688 [==============================] - 7s 4ms/step - loss: 0.2358 - sparse_categorical_accuracy: 0.9150 - val_loss: 0.2897 - val_sparse_categorical_accuracy: 0.8970\n",
      "Epoch 29/30\n",
      "1688/1688 [==============================] - 6s 3ms/step - loss: 0.2326 - sparse_categorical_accuracy: 0.9171 - val_loss: 0.3105 - val_sparse_categorical_accuracy: 0.8890\n",
      "Epoch 30/30\n",
      "1688/1688 [==============================] - 6s 4ms/step - loss: 0.2286 - sparse_categorical_accuracy: 0.9182 - val_loss: 0.2880 - val_sparse_categorical_accuracy: 0.8977\n"
     ]
    }
   ],
   "source": [
    "history=model.fit(x_train,y_train,epochs=30,validation_data=(x_val,y_val))"
   ]
  },
  {
   "cell_type": "code",
   "execution_count": 12,
   "id": "8a79f9f2-6726-4bde-81d0-0ad4472e2008",
   "metadata": {},
   "outputs": [
    {
     "name": "stdout",
     "output_type": "stream",
     "text": [
      "{'verbose': 1, 'epochs': 30, 'steps': 1688}\n"
     ]
    }
   ],
   "source": [
    "print(history.params)"
   ]
  },
  {
   "cell_type": "code",
   "execution_count": 13,
   "id": "a1c93c4f-34cb-4dc2-9335-80d429435785",
   "metadata": {},
   "outputs": [
    {
     "data": {
      "image/png": "[encoded data removed]",
      "text/plain": [
       "<Figure size 640x480 with 1 Axes>"
      ]
     },
     "metadata": {},
     "output_type": "display_data"
    }
   ],
   "source": [
    "import pandas as pd\n",
    "pd.DataFrame(history.history).plot(grid=True)\n",
    "pl.show()"
   ]
  },
  {
   "cell_type": "code",
   "execution_count": 14,
   "id": "4b3fcffb-b69c-4d9a-ac82-6ad16a76f577",
   "metadata": {},
   "outputs": [
    {
     "name": "stdout",
     "output_type": "stream",
     "text": [
      "313/313 [==============================] - 1s 2ms/step - loss: 0.3340 - sparse_categorical_accuracy: 0.8805\n"
     ]
    },
    {
     "data": {
      "text/plain": [
       "[0.33403363823890686, 0.8805000185966492]"
      ]
     },
     "execution_count": 14,
     "metadata": {},
     "output_type": "execute_result"
    }
   ],
   "source": [
    "model.evaluate(x_test,y_test)"
   ]
  },
  {
   "cell_type": "code",
   "execution_count": 15,
   "id": "897ddcea-faf7-47bc-9aad-c278bd59aa22",
   "metadata": {},
   "outputs": [
    {
     "name": "stdout",
     "output_type": "stream",
     "text": [
      "313/313 [==============================] - 1s 2ms/step\n",
      "[9 2 1 ... 8 1 5]\n",
      "[[873   1  17  21   7   2  69   1   9   0]\n",
      " [  0 974   1  20   3   0   1   0   1   0]\n",
      " [ 17   0 800  21 103   0  57   0   2   0]\n",
      " [ 26  13  12 893  27   0  25   0   4   0]\n",
      " [  2   1  89  31 812   0  63   0   2   0]\n",
      " [  0   0   0   1   0 951   0  35   2  11]\n",
      " [157   1  87  31  66   0 647   0  11   0]\n",
      " [  0   0   0   0   0  14   0 980   0   6]\n",
      " [  5   0   7   8   4   4   7   6 959   0]\n",
      " [  0   0   0   0   0   8   1  75   0 916]]\n",
      "              precision    recall  f1-score   support\n",
      "\n",
      "           0       0.81      0.87      0.84      1000\n",
      "           1       0.98      0.97      0.98      1000\n",
      "           2       0.79      0.80      0.79      1000\n",
      "           3       0.87      0.89      0.88      1000\n",
      "           4       0.79      0.81      0.80      1000\n",
      "           5       0.97      0.95      0.96      1000\n",
      "           6       0.74      0.65      0.69      1000\n",
      "           7       0.89      0.98      0.93      1000\n",
      "           8       0.97      0.96      0.96      1000\n",
      "           9       0.98      0.92      0.95      1000\n",
      "\n",
      "    accuracy                           0.88     10000\n",
      "   macro avg       0.88      0.88      0.88     10000\n",
      "weighted avg       0.88      0.88      0.88     10000\n",
      "\n"
     ]
    }
   ],
   "source": [
    "from sklearn.metrics import confusion_matrix,classification_report\n",
    "y_pred=model.predict(x_test)\n",
    "y_pred=y_pred.argmax(axis=1)\n",
    "print(y_pred)\n",
    "print(confusion_matrix(y_test,y_pred))\n",
    "print(classification_report(y_test,y_pred))"
   ]
  },
  {
   "cell_type": "code",
   "execution_count": 16,
   "id": "d4c6bf0e-ddc5-4148-898b-856253f08bb8",
   "metadata": {},
   "outputs": [],
   "source": [
    "from sklearn.datasets import fetch_california_housing"
   ]
  },
  {
   "cell_type": "code",
   "execution_count": 17,
   "id": "7f47bb54-f1f2-4399-b331-eeaed900b278",
   "metadata": {},
   "outputs": [],
   "source": [
    "housing = fetch_california_housing()\n",
    "X_train_full, X_test, y_train_full, y_test = train_test_split(\n",
    "    housing.data, housing.target, random_state=42)\n",
    "X_train, X_valid, y_train, y_valid = train_test_split(\n",
    "    X_train_full, y_train_full, random_state=42)"
   ]
  },
  {
   "cell_type": "code",
   "execution_count": 18,
   "id": "99d184f9-c4a2-46a4-a194-e2cc070fb42d",
   "metadata": {},
   "outputs": [],
   "source": [
    "def make_mlpr(shape,layers,activations,units):\n",
    "    tf.random.set_seed(42)\n",
    "    model=tf.keras.Sequential()\n",
    "    model.add(tf.keras.layers.Normalization(input_shape=shape))\n",
    "    for i in range(layers-1):\n",
    "        model.add(tf.keras.layers.Dense(units[i],activation=activations[i]))\n",
    "    model.add(tf.keras.layers.Dense(units[i+1]))\n",
    "    return model"
   ]
  },
  {
   "cell_type": "code",
   "execution_count": 19,
   "id": "9dfc40b2-cd6c-42f9-a0d9-9c1dceab4e80",
   "metadata": {},
   "outputs": [],
   "source": [
    "model=make_mlpr(X_train.shape[1:],4,['relu','relu','relu'],[50,50,50,1])"
   ]
  },
  {
   "cell_type": "code",
   "execution_count": 20,
   "id": "1c5efcdf-2e90-4bcd-bc45-d0c1ef2831ad",
   "metadata": {},
   "outputs": [
    {
     "name": "stdout",
     "output_type": "stream",
     "text": [
      "Model: \"sequential_1\"\n",
      "_________________________________________________________________\n",
      " Layer (type)                Output Shape              Param #   \n",
      "=================================================================\n",
      " normalization (Normalizati  (None, 8)                 17        \n",
      " on)                                                             \n",
      "                                                                 \n",
      " dense_3 (Dense)             (None, 50)                450       \n",
      "                                                                 \n",
      " dense_4 (Dense)             (None, 50)                2550      \n",
      "                                                                 \n",
      " dense_5 (Dense)             (None, 50)                2550      \n",
      "                                                                 \n",
      " dense_6 (Dense)             (None, 1)                 51        \n",
      "                                                                 \n",
      "=================================================================\n",
      "Total params: 5618 (21.95 KB)\n",
      "Trainable params: 5601 (21.88 KB)\n",
      "Non-trainable params: 17 (72.00 Byte)\n",
      "_________________________________________________________________\n"
     ]
    }
   ],
   "source": [
    "model.summary()"
   ]
  },
  {
   "cell_type": "code",
   "execution_count": 21,
   "id": "e5f84871-68ca-458a-afc5-2fb0f5147248",
   "metadata": {},
   "outputs": [],
   "source": [
    "\n",
    "model.compile(optimizer=tf.keras.optimizers.Adam(learning_rate=1e-3),loss='mse',metrics=['RootMeanSquaredError'])"
   ]
  },
  {
   "cell_type": "code",
   "execution_count": 22,
   "id": "6143b33c-1636-4970-be65-046c2d15d8cd",
   "metadata": {},
   "outputs": [],
   "source": [
    "model.layers[0].adapt(X_train)"
   ]
  },
  {
   "cell_type": "code",
   "execution_count": 23,
   "id": "7b0a5c30-b3a1-41b3-b56c-a36c6143485d",
   "metadata": {},
   "outputs": [
    {
     "name": "stdout",
     "output_type": "stream",
     "text": [
      "Epoch 1/20\n",
      "363/363 [==============================] - 3s 4ms/step - loss: 1.0120 - root_mean_squared_error: 1.0060 - val_loss: 0.8428 - val_root_mean_squared_error: 0.9180\n",
      "Epoch 2/20\n",
      "363/363 [==============================] - 1s 3ms/step - loss: 0.3969 - root_mean_squared_error: 0.6300 - val_loss: 2.3983 - val_root_mean_squared_error: 1.5486\n",
      "Epoch 3/20\n",
      "363/363 [==============================] - 1s 3ms/step - loss: 0.3795 - root_mean_squared_error: 0.6161 - val_loss: 0.4358 - val_root_mean_squared_error: 0.6602\n",
      "Epoch 4/20\n",
      "363/363 [==============================] - 1s 3ms/step - loss: 0.3460 - root_mean_squared_error: 0.5882 - val_loss: 0.3512 - val_root_mean_squared_error: 0.5926\n",
      "Epoch 5/20\n",
      "363/363 [==============================] - 1s 3ms/step - loss: 0.3355 - root_mean_squared_error: 0.5792 - val_loss: 0.3492 - val_root_mean_squared_error: 0.5909\n",
      "Epoch 6/20\n",
      "363/363 [==============================] - 1s 3ms/step - loss: 0.3212 - root_mean_squared_error: 0.5668 - val_loss: 0.6670 - val_root_mean_squared_error: 0.8167\n",
      "Epoch 7/20\n",
      "363/363 [==============================] - 1s 3ms/step - loss: 0.3207 - root_mean_squared_error: 0.5663 - val_loss: 0.5262 - val_root_mean_squared_error: 0.7254\n",
      "Epoch 8/20\n",
      "363/363 [==============================] - 1s 3ms/step - loss: 0.3081 - root_mean_squared_error: 0.5551 - val_loss: 0.7287 - val_root_mean_squared_error: 0.8537\n",
      "Epoch 9/20\n",
      "363/363 [==============================] - 1s 3ms/step - loss: 0.3044 - root_mean_squared_error: 0.5517 - val_loss: 0.4514 - val_root_mean_squared_error: 0.6718\n",
      "Epoch 10/20\n",
      "363/363 [==============================] - 1s 3ms/step - loss: 0.2989 - root_mean_squared_error: 0.5468 - val_loss: 0.7601 - val_root_mean_squared_error: 0.8718\n",
      "Epoch 11/20\n",
      "363/363 [==============================] - 1s 3ms/step - loss: 0.2919 - root_mean_squared_error: 0.5402 - val_loss: 0.4564 - val_root_mean_squared_error: 0.6756\n",
      "Epoch 12/20\n",
      "363/363 [==============================] - 1s 3ms/step - loss: 0.3022 - root_mean_squared_error: 0.5497 - val_loss: 0.4135 - val_root_mean_squared_error: 0.6430\n",
      "Epoch 13/20\n",
      "363/363 [==============================] - 1s 3ms/step - loss: 0.2857 - root_mean_squared_error: 0.5345 - val_loss: 0.2853 - val_root_mean_squared_error: 0.5341\n",
      "Epoch 14/20\n",
      "363/363 [==============================] - 1s 3ms/step - loss: 0.2857 - root_mean_squared_error: 0.5345 - val_loss: 0.2727 - val_root_mean_squared_error: 0.5222\n",
      "Epoch 15/20\n",
      "363/363 [==============================] - 1s 3ms/step - loss: 0.2834 - root_mean_squared_error: 0.5323 - val_loss: 0.3317 - val_root_mean_squared_error: 0.5759\n",
      "Epoch 16/20\n",
      "363/363 [==============================] - 1s 3ms/step - loss: 0.2797 - root_mean_squared_error: 0.5289 - val_loss: 0.2769 - val_root_mean_squared_error: 0.5262\n",
      "Epoch 17/20\n",
      "363/363 [==============================] - 1s 3ms/step - loss: 0.2790 - root_mean_squared_error: 0.5282 - val_loss: 0.4133 - val_root_mean_squared_error: 0.6429\n",
      "Epoch 18/20\n",
      "363/363 [==============================] - 1s 3ms/step - loss: 0.2733 - root_mean_squared_error: 0.5228 - val_loss: 0.2870 - val_root_mean_squared_error: 0.5357\n",
      "Epoch 19/20\n",
      "363/363 [==============================] - 1s 3ms/step - loss: 0.2695 - root_mean_squared_error: 0.5191 - val_loss: 0.2813 - val_root_mean_squared_error: 0.5304\n",
      "Epoch 20/20\n",
      "363/363 [==============================] - 1s 3ms/step - loss: 0.2714 - root_mean_squared_error: 0.5209 - val_loss: 0.2816 - val_root_mean_squared_error: 0.5307\n"
     ]
    }
   ],
   "source": [
    "history=model.fit(X_train,y_train,epochs=20,validation_data=(X_valid,y_valid))"
   ]
  },
  {
   "cell_type": "code",
   "execution_count": 24,
   "id": "dc883cbc-4c64-4046-8445-7ab429c8c7c0",
   "metadata": {},
   "outputs": [
    {
     "name": "stdout",
     "output_type": "stream",
     "text": [
      "162/162 [==============================] - 0s 2ms/step - loss: 0.2817 - root_mean_squared_error: 0.5308\n"
     ]
    }
   ],
   "source": [
    "mse,rmse=model.evaluate(X_test,y_test)"
   ]
  },
  {
   "cell_type": "code",
   "execution_count": 25,
   "id": "f5ad6197-94e3-4253-8c05-223be48ae02f",
   "metadata": {},
   "outputs": [
    {
     "name": "stdout",
     "output_type": "stream",
     "text": [
      "162/162 [==============================] - 1s 2ms/step\n",
      "[[0.47199553]\n",
      " [0.8740394 ]\n",
      " [5.1870513 ]\n",
      " ...\n",
      " [1.447458  ]\n",
      " [2.3937285 ]\n",
      " [4.449354  ]]\n",
      "0.7871042790458577\n"
     ]
    }
   ],
   "source": [
    "from sklearn.metrics import r2_score\n",
    "y_pred=model.predict(X_test)\n",
    "print(y_pred)\n",
    "print(r2_score(y_test,y_pred))"
   ]
  },
  {
   "cell_type": "code",
   "execution_count": null,
   "id": "d56b8911-1208-4a1a-8510-d889fed67dca",
   "metadata": {},
   "outputs": [],
   "source": []
  }
 ],
 "metadata": {
  "kernelspec": {
   "display_name": "Python 3 (ipykernel)",
   "language": "python",
   "name": "python3"
  },
  "language_info": {
   "codemirror_mode": {
    "name": "ipython",
    "version": 3
   },
   "file_extension": ".py",
   "mimetype": "text/x-python",
   "name": "python",
   "nbconvert_exporter": "python",
   "pygments_lexer": "ipython3",
   "version": "3.9.13"
  }
 },
 "nbformat": 4,
 "nbformat_minor": 5
}

{
 "cells": [
  {
   "cell_type": "code",
   "execution_count": 1,
   "id": "7b768862-cc68-4843-b012-8e8989c6d3d1",
   "metadata": {},
   "outputs": [],
   "source": [
    "import tensorflow as tf"
   ]
  },
  {
   "cell_type": "code",
   "execution_count": 9,
   "id": "7970cdcf-ca16-4e27-a595-ad45d90ae05a",
   "metadata": {},
   "outputs": [],
   "source": [
    "ip=tf.constant([[1,2,3,0,0,0],[1,0,2,0,0,0],[4,7,8,0,0,0],[0,0,0,0,0,0],[0,0,0,0,0,0],[0,0,0,0,0,0]],dtype='float32')"
   ]
  },
  {
   "cell_type": "code",
   "execution_count": 10,
   "id": "1dfa8922-30f6-4fab-96bb-4b4aedd6079a",
   "metadata": {},
   "outputs": [
    {
     "data": {
      "text/plain": [
       "<tf.Tensor: shape=(6, 6), dtype=float32, numpy=\n",
       "array([[1., 2., 3., 0., 0., 0.],\n",
       "       [1., 0., 2., 0., 0., 0.],\n",
       "       [4., 7., 8., 0., 0., 0.],\n",
       "       [0., 0., 0., 0., 0., 0.],\n",
       "       [0., 0., 0., 0., 0., 0.],\n",
       "       [0., 0., 0., 0., 0., 0.]], dtype=float32)>"
      ]
     },
     "execution_count": 10,
     "metadata": {},
     "output_type": "execute_result"
    }
   ],
   "source": [
    "ip"
   ]
  },
  {
   "cell_type": "code",
   "execution_count": 11,
   "id": "437fe5b3-b299-4876-80b4-6133c0989b98",
   "metadata": {},
   "outputs": [],
   "source": [
    "kernel=tf.Variable([[1,2],[3,4]])"
   ]
  },
  {
   "cell_type": "code",
   "execution_count": 12,
   "id": "c0a5ff7e-a17f-4cac-b599-4a45e1770372",
   "metadata": {},
   "outputs": [],
   "source": [
    "\n",
    "conv_layer=tf.keras.layers.Conv2D(filters=1,kernel_size=(2,2),dilation_rate=(2,2),padding='valid',use_bias=False,activation=None,kernel_initializer='zeros')"
   ]
  },
  {
   "cell_type": "code",
   "execution_count": 13,
   "id": "5b6d2fdb-c5e6-41c2-9b58-5ad8eb10ecaa",
   "metadata": {},
   "outputs": [],
   "source": [
    "conv_layer.build(input_shape=(1,6,6,1))\n",
    "conv_layer.set_weights([tf.reshape(kernel,[2,2,1,1])])"
   ]
  },
  {
   "cell_type": "code",
   "execution_count": 14,
   "id": "21642934-223b-4861-9099-d9fdf73a64a9",
   "metadata": {},
   "outputs": [],
   "source": [
    "op=conv_layer(tf.reshape(ip,[1,6,6,1]))"
   ]
  },
  {
   "cell_type": "code",
   "execution_count": 15,
   "id": "01f9cffd-8b01-4fba-a389-2ed133de7574",
   "metadata": {},
   "outputs": [
    {
     "data": {
      "text/plain": [
       "<tf.Tensor: shape=(1, 4, 4, 1), dtype=float32, numpy=\n",
       "array([[[[51.],\n",
       "         [23.],\n",
       "         [27.],\n",
       "         [ 0.]],\n",
       "\n",
       "        [[ 5.],\n",
       "         [ 0.],\n",
       "         [ 2.],\n",
       "         [ 0.]],\n",
       "\n",
       "        [[20.],\n",
       "         [ 7.],\n",
       "         [ 8.],\n",
       "         [ 0.]],\n",
       "\n",
       "        [[ 0.],\n",
       "         [ 0.],\n",
       "         [ 0.],\n",
       "         [ 0.]]]], dtype=float32)>"
      ]
     },
     "execution_count": 15,
     "metadata": {},
     "output_type": "execute_result"
    }
   ],
   "source": [
    "op"
   ]
  },
  {
   "cell_type": "code",
   "execution_count": null,
   "id": "2d280d74-2f6c-439e-86cc-a5d9750c294c",
   "metadata": {},
   "outputs": [],
   "source": []
  }
 ],
 "metadata": {
  "kernelspec": {
   "display_name": "Python 3 (ipykernel)",
   "language": "python",
   "name": "python3"
  },
  "language_info": {
   "codemirror_mode": {
    "name": "ipython",
    "version": 3
   },
   "file_extension": ".py",
   "mimetype": "text/x-python",
   "name": "python",
   "nbconvert_exporter": "python",
   "pygments_lexer": "ipython3",
   "version": "3.9.13"
  }
 },
 "nbformat": 4,
 "nbformat_minor": 5
}

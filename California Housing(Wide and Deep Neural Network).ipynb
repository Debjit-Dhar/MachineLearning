{
 "cells": [
  {
   "cell_type": "code",
   "execution_count": 1,
   "id": "9b729432-6f97-49c3-bec2-33d132a2d866",
   "metadata": {},
   "outputs": [],
   "source": [
    "from sklearn.datasets import fetch_california_housing\n",
    "from sklearn.model_selection import train_test_split"
   ]
  },
  {
   "cell_type": "code",
   "execution_count": 2,
   "id": "fd897211-8344-46c4-8040-d3e6fd6ddf12",
   "metadata": {},
   "outputs": [],
   "source": [
    "housing = fetch_california_housing()\n",
    "X_train_full, X_test, y_train_full, y_test = train_test_split(\n",
    "    housing.data, housing.target, random_state=42)\n",
    "X_train, X_valid, y_train, y_valid = train_test_split(\n",
    "    X_train_full, y_train_full, random_state=42)"
   ]
  },
  {
   "cell_type": "code",
   "execution_count": 3,
   "id": "c1e51a67-32cc-4033-bd6b-6b9cd3fc3bff",
   "metadata": {},
   "outputs": [
    {
     "name": "stdout",
     "output_type": "stream",
     "text": [
      "WARNING:tensorflow:From C:\\Users\\sudip\\PycharmProjects\\pythonProject\\venv\\lib\\site-packages\\keras\\src\\losses.py:2976: The name tf.losses.sparse_softmax_cross_entropy is deprecated. Please use tf.compat.v1.losses.sparse_softmax_cross_entropy instead.\n",
      "\n"
     ]
    }
   ],
   "source": [
    "import tensorflow as tf"
   ]
  },
  {
   "cell_type": "markdown",
   "id": "66067cef-97e4-4c58-a5c6-ffc8f247d90d",
   "metadata": {},
   "source": [
    "# Wide and Deep NN 1"
   ]
  },
  {
   "cell_type": "code",
   "execution_count": 4,
   "id": "a3562802-3278-4e85-b4d8-3681ecb59bb2",
   "metadata": {},
   "outputs": [
    {
     "name": "stdout",
     "output_type": "stream",
     "text": [
      "WARNING:tensorflow:From C:\\Users\\sudip\\PycharmProjects\\pythonProject\\venv\\lib\\site-packages\\keras\\src\\backend.py:277: The name tf.reset_default_graph is deprecated. Please use tf.compat.v1.reset_default_graph instead.\n",
      "\n"
     ]
    }
   ],
   "source": [
    "tf.keras.backend.clear_session()\n",
    "tf.random.set_seed(42)\n",
    "ip=tf.keras.layers.Input(shape=X_train.shape[1:])\n",
    "norm=tf.keras.layers.Normalization()\n",
    "nlayer=norm(ip)\n",
    "L=3\n",
    "hlayers=[]\n",
    "prev=nlayer\n",
    "for i in range(L-1):\n",
    "    hlayers.append(tf.keras.layers.Dense(30,activation='relu')(prev))\n",
    "    prev=hlayers[i]\n",
    "clayer=tf.keras.layers.Concatenate()([nlayer,prev])\n",
    "olayer=tf.keras.layers.Dense(1)(clayer)\n",
    "model=tf.keras.Model(inputs=[ip],outputs=[olayer])"
   ]
  },
  {
   "cell_type": "code",
   "execution_count": 5,
   "id": "f66c79ce-1498-4c01-bbaa-157355359fd1",
   "metadata": {},
   "outputs": [
    {
     "name": "stdout",
     "output_type": "stream",
     "text": [
      "Model: \"model\"\n",
      "__________________________________________________________________________________________________\n",
      " Layer (type)                Output Shape                 Param #   Connected to                  \n",
      "==================================================================================================\n",
      " input_1 (InputLayer)        [(None, 8)]                  0         []                            \n",
      "                                                                                                  \n",
      " normalization (Normalizati  (None, 8)                    17        ['input_1[0][0]']             \n",
      " on)                                                                                              \n",
      "                                                                                                  \n",
      " dense (Dense)               (None, 30)                   270       ['normalization[0][0]']       \n",
      "                                                                                                  \n",
      " dense_1 (Dense)             (None, 30)                   930       ['dense[0][0]']               \n",
      "                                                                                                  \n",
      " concatenate (Concatenate)   (None, 38)                   0         ['normalization[0][0]',       \n",
      "                                                                     'dense_1[0][0]']             \n",
      "                                                                                                  \n",
      " dense_2 (Dense)             (None, 1)                    39        ['concatenate[0][0]']         \n",
      "                                                                                                  \n",
      "==================================================================================================\n",
      "Total params: 1256 (4.91 KB)\n",
      "Trainable params: 1239 (4.84 KB)\n",
      "Non-trainable params: 17 (72.00 Byte)\n",
      "__________________________________________________________________________________________________\n"
     ]
    }
   ],
   "source": [
    "model.summary()"
   ]
  },
  {
   "cell_type": "code",
   "execution_count": 6,
   "id": "5c1a54bf-fc3a-4378-a784-9cfeec8a5164",
   "metadata": {},
   "outputs": [],
   "source": [
    "optimizer=tf.keras.optimizers.Adam(learning_rate=1e-2)\n",
    "model.compile(loss='mse',optimizer=optimizer,metrics=['RootMeanSquaredError'])"
   ]
  },
  {
   "cell_type": "code",
   "execution_count": 7,
   "id": "03642cce-15c6-4ecc-8895-64f283dc7a7b",
   "metadata": {},
   "outputs": [
    {
     "name": "stdout",
     "output_type": "stream",
     "text": [
      "Epoch 1/20\n",
      "WARNING:tensorflow:From C:\\Users\\sudip\\PycharmProjects\\pythonProject\\venv\\lib\\site-packages\\keras\\src\\utils\\tf_utils.py:492: The name tf.ragged.RaggedTensorValue is deprecated. Please use tf.compat.v1.ragged.RaggedTensorValue instead.\n",
      "\n",
      "WARNING:tensorflow:From C:\\Users\\sudip\\PycharmProjects\\pythonProject\\venv\\lib\\site-packages\\keras\\src\\engine\\base_layer_utils.py:384: The name tf.executing_eagerly_outside_functions is deprecated. Please use tf.compat.v1.executing_eagerly_outside_functions instead.\n",
      "\n",
      "363/363 [==============================] - 4s 3ms/step - loss: 0.6538 - root_mean_squared_error: 0.8086 - val_loss: 0.7238 - val_root_mean_squared_error: 0.8508\n",
      "Epoch 2/20\n",
      "363/363 [==============================] - 1s 3ms/step - loss: 0.4045 - root_mean_squared_error: 0.6360 - val_loss: 4.7054 - val_root_mean_squared_error: 2.1692\n",
      "Epoch 3/20\n",
      "363/363 [==============================] - 1s 3ms/step - loss: 0.4170 - root_mean_squared_error: 0.6457 - val_loss: 0.5432 - val_root_mean_squared_error: 0.7370\n",
      "Epoch 4/20\n",
      "363/363 [==============================] - 1s 4ms/step - loss: 0.3894 - root_mean_squared_error: 0.6240 - val_loss: 1.7125 - val_root_mean_squared_error: 1.3086\n",
      "Epoch 5/20\n",
      "363/363 [==============================] - 1s 3ms/step - loss: 0.4854 - root_mean_squared_error: 0.6967 - val_loss: 12.8310 - val_root_mean_squared_error: 3.5820\n",
      "Epoch 6/20\n",
      "363/363 [==============================] - 1s 4ms/step - loss: 0.5910 - root_mean_squared_error: 0.7688 - val_loss: 16.1540 - val_root_mean_squared_error: 4.0192\n",
      "Epoch 7/20\n",
      "363/363 [==============================] - 1s 3ms/step - loss: 0.3710 - root_mean_squared_error: 0.6091 - val_loss: 0.4522 - val_root_mean_squared_error: 0.6725\n",
      "Epoch 8/20\n",
      "363/363 [==============================] - 1s 3ms/step - loss: 0.3297 - root_mean_squared_error: 0.5742 - val_loss: 0.9450 - val_root_mean_squared_error: 0.9721\n",
      "Epoch 9/20\n",
      "363/363 [==============================] - 1s 2ms/step - loss: 0.3661 - root_mean_squared_error: 0.6050 - val_loss: 10.0663 - val_root_mean_squared_error: 3.1727\n",
      "Epoch 10/20\n",
      "363/363 [==============================] - 1s 3ms/step - loss: 0.4428 - root_mean_squared_error: 0.6655 - val_loss: 5.8845 - val_root_mean_squared_error: 2.4258\n",
      "Epoch 11/20\n",
      "363/363 [==============================] - 1s 4ms/step - loss: 0.3464 - root_mean_squared_error: 0.5886 - val_loss: 8.7222 - val_root_mean_squared_error: 2.9533\n",
      "Epoch 12/20\n",
      "363/363 [==============================] - 1s 3ms/step - loss: 0.4554 - root_mean_squared_error: 0.6748 - val_loss: 2.5890 - val_root_mean_squared_error: 1.6090\n",
      "Epoch 13/20\n",
      "363/363 [==============================] - 1s 3ms/step - loss: 0.3298 - root_mean_squared_error: 0.5743 - val_loss: 0.4239 - val_root_mean_squared_error: 0.6511\n",
      "Epoch 14/20\n",
      "363/363 [==============================] - 1s 2ms/step - loss: 0.3119 - root_mean_squared_error: 0.5585 - val_loss: 0.2991 - val_root_mean_squared_error: 0.5469\n",
      "Epoch 15/20\n",
      "363/363 [==============================] - 1s 2ms/step - loss: 0.3085 - root_mean_squared_error: 0.5554 - val_loss: 0.3034 - val_root_mean_squared_error: 0.5508\n",
      "Epoch 16/20\n",
      "363/363 [==============================] - 1s 2ms/step - loss: 0.3026 - root_mean_squared_error: 0.5501 - val_loss: 0.2849 - val_root_mean_squared_error: 0.5338\n",
      "Epoch 17/20\n",
      "363/363 [==============================] - 1s 2ms/step - loss: 0.3054 - root_mean_squared_error: 0.5527 - val_loss: 0.3112 - val_root_mean_squared_error: 0.5579\n",
      "Epoch 18/20\n",
      "363/363 [==============================] - 1s 2ms/step - loss: 0.2985 - root_mean_squared_error: 0.5463 - val_loss: 0.3162 - val_root_mean_squared_error: 0.5623\n",
      "Epoch 19/20\n",
      "363/363 [==============================] - 1s 2ms/step - loss: 0.2954 - root_mean_squared_error: 0.5435 - val_loss: 0.2911 - val_root_mean_squared_error: 0.5395\n",
      "Epoch 20/20\n",
      "363/363 [==============================] - 1s 2ms/step - loss: 0.3061 - root_mean_squared_error: 0.5533 - val_loss: 0.2907 - val_root_mean_squared_error: 0.5392\n"
     ]
    }
   ],
   "source": [
    "norm.adapt(X_train)\n",
    "history=model.fit(X_train,y_train,epochs=20,validation_data=(X_valid,y_valid))"
   ]
  },
  {
   "cell_type": "code",
   "execution_count": 8,
   "id": "4b382b2d-c726-4102-8ad6-95d78438c59f",
   "metadata": {},
   "outputs": [
    {
     "name": "stdout",
     "output_type": "stream",
     "text": [
      "162/162 [==============================] - 0s 2ms/step - loss: 0.2976 - root_mean_squared_error: 0.5455\n"
     ]
    }
   ],
   "source": [
    "mse_test=model.evaluate(X_test,y_test)"
   ]
  },
  {
   "cell_type": "markdown",
   "id": "22483259-a31e-4ffb-89a6-2a4f58ef93ac",
   "metadata": {},
   "source": [
    "# Wide and Deep NN 2"
   ]
  },
  {
   "cell_type": "code",
   "execution_count": 10,
   "id": "b98b754c-a784-4671-b869-c7a50ddde90e",
   "metadata": {},
   "outputs": [],
   "source": [
    "tf.keras.backend.clear_session()\n",
    "tf.random.set_seed(42)\n",
    "ip_wide=tf.keras.layers.Input(shape=[5])# features 0 to 4\n",
    "ip_deep=tf.keras.layers.Input(shape=[6])# features 2 to 7\n",
    "norm1=tf.keras.layers.Normalization()\n",
    "norm2=tf.keras.layers.Normalization()\n",
    "nlayer_wide=norm1(ip_wide)\n",
    "nlayer_deep=norm2(ip_deep)\n",
    "L=3\n",
    "hlayers=[]\n",
    "prev=nlayer_deep\n",
    "for i in range(L-1):\n",
    "    hlayers.append(tf.keras.layers.Dense(30,activation='relu')(prev))\n",
    "    prev=hlayers[i]\n",
    "clayer=tf.keras.layers.Concatenate()([nlayer_wide,prev])\n",
    "olayer=tf.keras.layers.Dense(1)(clayer)\n",
    "model=tf.keras.Model(inputs=[ip_wide,ip_deep],outputs=[olayer])"
   ]
  },
  {
   "cell_type": "code",
   "execution_count": 11,
   "id": "1fe29f21-9c44-4f43-b8c5-7a65e7fe1559",
   "metadata": {},
   "outputs": [
    {
     "name": "stdout",
     "output_type": "stream",
     "text": [
      "Model: \"model\"\n",
      "__________________________________________________________________________________________________\n",
      " Layer (type)                Output Shape                 Param #   Connected to                  \n",
      "==================================================================================================\n",
      " input_2 (InputLayer)        [(None, 6)]                  0         []                            \n",
      "                                                                                                  \n",
      " normalization_1 (Normaliza  (None, 6)                    13        ['input_2[0][0]']             \n",
      " tion)                                                                                            \n",
      "                                                                                                  \n",
      " input_1 (InputLayer)        [(None, 5)]                  0         []                            \n",
      "                                                                                                  \n",
      " dense (Dense)               (None, 30)                   210       ['normalization_1[0][0]']     \n",
      "                                                                                                  \n",
      " normalization (Normalizati  (None, 5)                    11        ['input_1[0][0]']             \n",
      " on)                                                                                              \n",
      "                                                                                                  \n",
      " dense_1 (Dense)             (None, 30)                   930       ['dense[0][0]']               \n",
      "                                                                                                  \n",
      " concatenate (Concatenate)   (None, 35)                   0         ['normalization[0][0]',       \n",
      "                                                                     'dense_1[0][0]']             \n",
      "                                                                                                  \n",
      " dense_2 (Dense)             (None, 1)                    36        ['concatenate[0][0]']         \n",
      "                                                                                                  \n",
      "==================================================================================================\n",
      "Total params: 1200 (4.70 KB)\n",
      "Trainable params: 1176 (4.59 KB)\n",
      "Non-trainable params: 24 (104.00 Byte)\n",
      "__________________________________________________________________________________________________\n"
     ]
    }
   ],
   "source": [
    "model.summary()"
   ]
  },
  {
   "cell_type": "code",
   "execution_count": 12,
   "id": "f8ee8487-cec3-49eb-95d4-d74eff6c662d",
   "metadata": {},
   "outputs": [],
   "source": [
    "\n",
    "model.compile(loss='mse',optimizer=tf.keras.optimizers.Adam(learning_rate=1e-3),metrics=['RootMeanSquaredError'])"
   ]
  },
  {
   "cell_type": "code",
   "execution_count": 13,
   "id": "794361ce-f8a8-4be3-ad53-2af3df319d31",
   "metadata": {},
   "outputs": [
    {
     "name": "stdout",
     "output_type": "stream",
     "text": [
      "Epoch 1/20\n",
      "363/363 [==============================] - 2s 3ms/step - loss: 1.3737 - root_mean_squared_error: 1.1720 - val_loss: 1.0174 - val_root_mean_squared_error: 1.0087\n",
      "Epoch 2/20\n",
      "363/363 [==============================] - 1s 3ms/step - loss: 0.5221 - root_mean_squared_error: 0.7226 - val_loss: 0.7513 - val_root_mean_squared_error: 0.8668\n",
      "Epoch 3/20\n",
      "363/363 [==============================] - 1s 3ms/step - loss: 0.4350 - root_mean_squared_error: 0.6595 - val_loss: 0.3978 - val_root_mean_squared_error: 0.6307\n",
      "Epoch 4/20\n",
      "363/363 [==============================] - 1s 3ms/step - loss: 0.4017 - root_mean_squared_error: 0.6338 - val_loss: 0.3883 - val_root_mean_squared_error: 0.6231\n",
      "Epoch 5/20\n",
      "363/363 [==============================] - 1s 3ms/step - loss: 0.3847 - root_mean_squared_error: 0.6203 - val_loss: 0.5088 - val_root_mean_squared_error: 0.7133\n",
      "Epoch 6/20\n",
      "363/363 [==============================] - 1s 3ms/step - loss: 0.3721 - root_mean_squared_error: 0.6100 - val_loss: 0.9047 - val_root_mean_squared_error: 0.9512\n",
      "Epoch 7/20\n",
      "363/363 [==============================] - 1s 3ms/step - loss: 0.3681 - root_mean_squared_error: 0.6067 - val_loss: 0.5960 - val_root_mean_squared_error: 0.7720\n",
      "Epoch 8/20\n",
      "363/363 [==============================] - 1s 3ms/step - loss: 0.3545 - root_mean_squared_error: 0.5954 - val_loss: 1.9490 - val_root_mean_squared_error: 1.3961\n",
      "Epoch 9/20\n",
      "363/363 [==============================] - 1s 3ms/step - loss: 0.3501 - root_mean_squared_error: 0.5917 - val_loss: 4.1598 - val_root_mean_squared_error: 2.0396\n",
      "Epoch 10/20\n",
      "363/363 [==============================] - 1s 3ms/step - loss: 0.3788 - root_mean_squared_error: 0.6155 - val_loss: 2.5220 - val_root_mean_squared_error: 1.5881\n",
      "Epoch 11/20\n",
      "363/363 [==============================] - 1s 3ms/step - loss: 0.3493 - root_mean_squared_error: 0.5910 - val_loss: 0.7206 - val_root_mean_squared_error: 0.8489\n",
      "Epoch 12/20\n",
      "363/363 [==============================] - 1s 3ms/step - loss: 0.3516 - root_mean_squared_error: 0.5929 - val_loss: 0.7579 - val_root_mean_squared_error: 0.8706\n",
      "Epoch 13/20\n",
      "363/363 [==============================] - 1s 3ms/step - loss: 0.3353 - root_mean_squared_error: 0.5790 - val_loss: 0.6405 - val_root_mean_squared_error: 0.8003\n",
      "Epoch 14/20\n",
      "363/363 [==============================] - 1s 4ms/step - loss: 0.3299 - root_mean_squared_error: 0.5744 - val_loss: 0.9341 - val_root_mean_squared_error: 0.9665\n",
      "Epoch 15/20\n",
      "363/363 [==============================] - 1s 3ms/step - loss: 0.3308 - root_mean_squared_error: 0.5751 - val_loss: 1.3767 - val_root_mean_squared_error: 1.1733\n",
      "Epoch 16/20\n",
      "363/363 [==============================] - 1s 3ms/step - loss: 0.3306 - root_mean_squared_error: 0.5750 - val_loss: 1.7956 - val_root_mean_squared_error: 1.3400\n",
      "Epoch 17/20\n",
      "363/363 [==============================] - 1s 3ms/step - loss: 0.3343 - root_mean_squared_error: 0.5782 - val_loss: 1.3772 - val_root_mean_squared_error: 1.1735\n",
      "Epoch 18/20\n",
      "363/363 [==============================] - 1s 3ms/step - loss: 0.3258 - root_mean_squared_error: 0.5708 - val_loss: 0.5051 - val_root_mean_squared_error: 0.7107\n",
      "Epoch 19/20\n",
      "363/363 [==============================] - 1s 3ms/step - loss: 0.3170 - root_mean_squared_error: 0.5630 - val_loss: 0.8911 - val_root_mean_squared_error: 0.9440\n",
      "Epoch 20/20\n",
      "363/363 [==============================] - 1s 3ms/step - loss: 0.3233 - root_mean_squared_error: 0.5686 - val_loss: 0.7797 - val_root_mean_squared_error: 0.8830\n"
     ]
    }
   ],
   "source": [
    "X_train_wide,X_train_deep=X_train[:,:5],X_train[:,2:]\n",
    "X_valid_wide,X_valid_deep=X_valid[:,:5],X_valid[:,2:]\n",
    "X_test_wide,X_test_deep=X_test[:,:5],X_test[:,2:]\n",
    "norm1.adapt(X_train_wide)\n",
    "norm2.adapt(X_train_deep)\n",
    "history=model.fit((X_train_wide,X_train_deep),y_train,epochs=20,validation_data=((X_valid_wide,X_valid_deep),y_valid))"
   ]
  },
  {
   "cell_type": "code",
   "execution_count": 14,
   "id": "cf382c9b-8d5d-4b75-87ec-54ffacb00080",
   "metadata": {},
   "outputs": [
    {
     "name": "stdout",
     "output_type": "stream",
     "text": [
      "162/162 [==============================] - 0s 2ms/step - loss: 0.3174 - root_mean_squared_error: 0.5634\n"
     ]
    }
   ],
   "source": [
    "mse_test=model.evaluate((X_test_wide,X_test_deep),y_test)"
   ]
  },
  {
   "cell_type": "code",
   "execution_count": null,
   "id": "7724ca2a-6a65-407f-9d1b-7aaed0e479b1",
   "metadata": {},
   "outputs": [],
   "source": []
  }
 ],
 "metadata": {
  "kernelspec": {
   "display_name": "Python 3 (ipykernel)",
   "language": "python",
   "name": "python3"
  },
  "language_info": {
   "codemirror_mode": {
    "name": "ipython",
    "version": 3
   },
   "file_extension": ".py",
   "mimetype": "text/x-python",
   "name": "python",
   "nbconvert_exporter": "python",
   "pygments_lexer": "ipython3",
   "version": "3.9.13"
  }
 },
 "nbformat": 4,
 "nbformat_minor": 5
}

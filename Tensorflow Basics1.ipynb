{
 "cells": [
  {
   "cell_type": "code",
   "execution_count": 13,
   "id": "33b3a7f3-9192-400f-b3aa-6ba6a22705a9",
   "metadata": {},
   "outputs": [],
   "source": [
    "import tensorflow as tf"
   ]
  },
  {
   "cell_type": "code",
   "execution_count": 14,
   "id": "972558f3-d857-49ea-8624-bf6139489c2b",
   "metadata": {},
   "outputs": [],
   "source": [
    "import numpy as np"
   ]
  },
  {
   "cell_type": "code",
   "execution_count": 22,
   "id": "a711c414-56f9-4256-b5f8-87e7870310ad",
   "metadata": {},
   "outputs": [],
   "source": [
    "x=np.array([1,-10,25])"
   ]
  },
  {
   "cell_type": "code",
   "execution_count": 30,
   "id": "fbbf1d98-a2a5-402f-a69d-8d20915981cc",
   "metadata": {},
   "outputs": [],
   "source": [
    "optimizer=tf.keras.optimizers.Adam(0.1)"
   ]
  },
  {
   "cell_type": "code",
   "execution_count": 31,
   "id": "456c0835-bd0b-45e1-91fe-aae6d4a5e668",
   "metadata": {},
   "outputs": [],
   "source": [
    "def train(x,w,optimizer,epochs):\n",
    "    def cost():\n",
    "        return x[0]*w**2+x[1]*w+x[2]\n",
    "    for _ in range(epochs):\n",
    "        optimizer.minimize(cost,[w]) \n",
    "    return w"
   ]
  },
  {
   "cell_type": "code",
   "execution_count": 32,
   "id": "674361e2-0404-4a5d-a03d-7384ab92b315",
   "metadata": {},
   "outputs": [],
   "source": [
    "w=tf.Variable(0,dtype=tf.float64)\n",
    "w=train(x,w,optimizer,1000)"
   ]
  },
  {
   "cell_type": "code",
   "execution_count": 33,
   "id": "a35dbaad-3d29-4490-9040-b21db928544f",
   "metadata": {},
   "outputs": [
    {
     "name": "stdout",
     "output_type": "stream",
     "text": [
      "<tf.Variable 'Variable:0' shape=() dtype=float64, numpy=5.000000000000002>\n"
     ]
    }
   ],
   "source": [
    "print(w)"
   ]
  },
  {
   "cell_type": "code",
   "execution_count": 34,
   "id": "31318c84-7668-4cd7-8353-f871a43c4955",
   "metadata": {},
   "outputs": [
    {
     "data": {
      "text/plain": [
       "'2.15.0'"
      ]
     },
     "execution_count": 34,
     "metadata": {},
     "output_type": "execute_result"
    }
   ],
   "source": [
    "tf.__version__"
   ]
  },
  {
   "cell_type": "code",
   "execution_count": null,
   "id": "8e95a3f5-4880-4cfc-8441-33902bed69a8",
   "metadata": {},
   "outputs": [],
   "source": []
  }
 ],
 "metadata": {
  "kernelspec": {
   "display_name": "Python 3 (ipykernel)",
   "language": "python",
   "name": "python3"
  },
  "language_info": {
   "codemirror_mode": {
    "name": "ipython",
    "version": 3
   },
   "file_extension": ".py",
   "mimetype": "text/x-python",
   "name": "python",
   "nbconvert_exporter": "python",
   "pygments_lexer": "ipython3",
   "version": "3.9.13"
  }
 },
 "nbformat": 4,
 "nbformat_minor": 5
}

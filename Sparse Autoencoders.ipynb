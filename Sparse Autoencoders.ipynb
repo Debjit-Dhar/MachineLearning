{
 "cells": [
  {
   "cell_type": "code",
   "execution_count": 1,
   "id": "e898937a-f8bc-4f5a-9019-1db79980ac91",
   "metadata": {},
   "outputs": [],
   "source": [
    "import tensorflow as tf"
   ]
  },
  {
   "cell_type": "code",
   "execution_count": 5,
   "id": "ca7f837d-ee67-456c-902a-bcda936ac4c6",
   "metadata": {},
   "outputs": [],
   "source": [
    "kld=tf.keras.losses.kullback_leibler_divergence\n",
    "class KLDivergenceRegularizer(tf.keras.regularizers.Regularizer):\n",
    "    def __init__(self,weight,target):\n",
    "        self.weight=weight\n",
    "        self.target=target\n",
    "    def call(self,inputs):\n",
    "        mean_activities=tf.reduce_mean(inputs,aixs=0)\n",
    "        return self.weight*(kld(self.target,mean_activities)+kld(1-self.target,1-mean_activities))"
   ]
  },
  {
   "cell_type": "code",
   "execution_count": 7,
   "id": "e0055b15-5d47-4d9b-94a3-0d7a53e7c188",
   "metadata": {},
   "outputs": [],
   "source": [
    "tf.random.set_seed(42)  \n",
    "\n",
    "kld_reg = KLDivergenceRegularizer(weight=5e-3, target=0.1)\n",
    "sparse_kl_encoder = tf.keras.Sequential([\n",
    "    tf.keras.layers.Flatten(),\n",
    "    tf.keras.layers.Dense(100, activation=\"relu\"),\n",
    "    tf.keras.layers.Dense(300, activation=\"sigmoid\",\n",
    "                          activity_regularizer=kld_reg)\n",
    "])\n",
    "sparse_kl_decoder = tf.keras.Sequential([\n",
    "    tf.keras.layers.Dense(100, activation=\"relu\"),\n",
    "    tf.keras.layers.Dense(28 * 28),\n",
    "    tf.keras.layers.Reshape([28, 28])\n",
    "])\n",
    "sparse_kl_ae = tf.keras.Sequential([sparse_kl_encoder, sparse_kl_decoder])"
   ]
  },
  {
   "cell_type": "code",
   "execution_count": null,
   "id": "8f85518b-0d80-4018-8704-f0f398b374ab",
   "metadata": {},
   "outputs": [],
   "source": []
  }
 ],
 "metadata": {
  "kernelspec": {
   "display_name": "Python 3 (ipykernel)",
   "language": "python",
   "name": "python3"
  },
  "language_info": {
   "codemirror_mode": {
    "name": "ipython",
    "version": 3
   },
   "file_extension": ".py",
   "mimetype": "text/x-python",
   "name": "python",
   "nbconvert_exporter": "python",
   "pygments_lexer": "ipython3",
   "version": "3.9.13"
  }
 },
 "nbformat": 4,
 "nbformat_minor": 5
}
